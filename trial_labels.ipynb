{
 "cells": [
  {
   "cell_type": "code",
   "execution_count": 2,
   "metadata": {},
   "outputs": [],
   "source": [
    "import numpy as np\n",
    "import os"
   ]
  },
  {
   "cell_type": "code",
   "execution_count": 22,
   "metadata": {},
   "outputs": [
    {
     "name": "stdout",
     "output_type": "stream",
     "text": [
      "subject 4, run: 5\n",
      "['right_scissors' 'left_scissors' 'right_paper' 'left_paper' 'right_paper'\n",
      " 'left_paper' 'right_rock' 'left_rock' 'left_paper' 'right_paper'\n",
      " 'left_scissors' 'right_scissors' 'right_scissors' 'left_scissors'\n",
      " 'left_rock' 'left_rock' 'right_rock' 'right_rock']\n"
     ]
    }
   ],
   "source": [
    "# Var (each sub)\n",
    "sub = 4\n",
    "run = 5\n",
    "\n",
    "\n",
    "print(f\"subject {sub}, run: {run}\")\n",
    "# trial path\n",
    "save_dir = f\"data/label/sub_{sub}/run_{run}/\"\n",
    "\n",
    "# printing and saving trial\n",
    "id = int(sub*10 + run)\n",
    "choices = [\"left_rock\", \"left_paper\", \"left_scissors\", \"right_rock\", \"right_paper\", \"right_scissors\"]\n",
    "trial = np.repeat(choices, 3)\n",
    "np.random.shuffle(trial)\n",
    "\n",
    "os.makedirs(save_dir, exist_ok=True)\n",
    "np.save(save_dir + \"labels.npy\", trial)\n",
    "print(trial)"
   ]
  },
  {
   "cell_type": "code",
   "execution_count": null,
   "metadata": {},
   "outputs": [],
   "source": []
  }
 ],
 "metadata": {
  "kernelspec": {
   "display_name": "pyenv",
   "language": "python",
   "name": "python3"
  },
  "language_info": {
   "codemirror_mode": {
    "name": "ipython",
    "version": 3
   },
   "file_extension": ".py",
   "mimetype": "text/x-python",
   "name": "python",
   "nbconvert_exporter": "python",
   "pygments_lexer": "ipython3",
   "version": "3.11.9"
  }
 },
 "nbformat": 4,
 "nbformat_minor": 2
}
